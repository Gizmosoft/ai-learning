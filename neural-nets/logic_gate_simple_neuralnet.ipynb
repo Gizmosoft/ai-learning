{
  "nbformat": 4,
  "nbformat_minor": 0,
  "metadata": {
    "colab": {
      "provenance": []
    },
    "kernelspec": {
      "name": "python3",
      "display_name": "Python 3"
    },
    "language_info": {
      "name": "python"
    }
  },
  "cells": [
    {
      "cell_type": "code",
      "execution_count": 1,
      "metadata": {
        "id": "F_YoFlpKPktZ"
      },
      "outputs": [],
      "source": [
        "import numpy as np\n",
        "import matplotlib.pyplot as plt\n",
        "\n",
        "a = np.array([0, 0, 1, 1])\n",
        "b = np.array([0, 1, 0, 1])\n",
        "\n",
        "y_xor = np.array([[0,1,1,0]])\n",
        "\n",
        "total_input = []\n",
        "total_input = [a, b]\n",
        "total_input = np.array(total_input)"
      ]
    },
    {
      "cell_type": "code",
      "source": [
        "# Define the sigmoid activation function:\n",
        "def sigmoid (x):\n",
        "    return 1/(1 + np.exp(-x))\n",
        "\n",
        "# Define the number of neurons\n",
        "input_neurons, hidden_neurons, output_neurons = 2, 2, 1\n",
        "\n",
        "# Total training examples\n",
        "samples = total_input.shape[1]\n",
        "\n",
        "# Learning rate\n",
        "lr = 0.1\n",
        "\n",
        "# Define random seed to replicate the outputs\n",
        "np.random.seed(42)\n",
        "\n",
        "# Initializing the weights for hidden and output layers\n",
        "w1 = np.random.rand(hidden_neurons, input_neurons)\n",
        "w2 = np.random.rand(output_neurons, hidden_neurons)"
      ],
      "metadata": {
        "id": "XJXYwc-2Px8L"
      },
      "execution_count": 2,
      "outputs": []
    },
    {
      "cell_type": "code",
      "source": [
        "# Forward propagation\n",
        "def forward_prop(w1, w2, x):\n",
        "    z1 = np.dot(w1, x)\n",
        "    a1 = sigmoid(z1)\n",
        "    z2 = np.dot(w2, a1)\n",
        "    a2 = sigmoid(z2)\n",
        "    return z1, a1, z2, a2\n",
        "\n",
        "# Backward propagation\n",
        "def back_prop(m, w1, w2, z1, a1, z2, a2, y):\n",
        "\n",
        "    dz2 = a2-y\n",
        "    dw2 = np.dot(dz2, a1.T)/m\n",
        "    dz1 = np.dot(w2.T, dz2) * a1*(1-a1)\n",
        "    dw1 = np.dot(dz1, total_input.T)/m\n",
        "    dw1 = np.reshape(dw1, w1.shape)\n",
        "    dw2 = np.reshape(dw2,w2.shape)\n",
        "    return dz2,dw2,dz1,dw1"
      ],
      "metadata": {
        "id": "Hd9Z6ycOP2zy"
      },
      "execution_count": 3,
      "outputs": []
    },
    {
      "cell_type": "code",
      "source": [
        "losses = []\n",
        "iterations = 10000\n",
        "\n",
        "for i in range(iterations):\n",
        "    z1, a1, z2, a2 = forward_prop(w1, w2, total_input)\n",
        "    loss = -(1/samples)*np.sum(y_xor*np.log(a2)+(1-y_xor)*np.log(1-a2))\n",
        "    losses.append(loss)\n",
        "    da2, dw2, dz1, dw1 = back_prop(samples, w1, w2, z1, a1, z2, a2, y_xor)\n",
        "    w2 = w2-lr*dw2\n",
        "    w1 = w1-lr*dw1"
      ],
      "metadata": {
        "id": "LJ4oQIx2P5bK"
      },
      "execution_count": 4,
      "outputs": []
    },
    {
      "cell_type": "code",
      "source": [
        "# We plot losses to see how our network is doing\n",
        "plt.plot(losses)\n",
        "plt.xlabel(\"EPOCHS\")\n",
        "plt.ylabel(\"Loss value\")"
      ],
      "metadata": {
        "colab": {
          "base_uri": "https://localhost:8080/",
          "height": 466
        },
        "id": "rQHfpiqOP8aU",
        "outputId": "b47f81d2-e1d9-4f2d-852d-0f14d5604a5a"
      },
      "execution_count": 5,
      "outputs": [
        {
          "output_type": "execute_result",
          "data": {
            "text/plain": [
              "Text(0, 0.5, 'Loss value')"
            ]
          },
          "metadata": {},
          "execution_count": 5
        },
        {
          "output_type": "display_data",
          "data": {
            "text/plain": [
              "<Figure size 640x480 with 1 Axes>"
            ],
            "image/png": "[encoded data removed]"
          },
          "metadata": {}
        }
      ]
    },
    {
      "cell_type": "code",
      "source": [
        "# Creating the predict function\n",
        "def predict(w1,w2,input):\n",
        "    z1, a1, z2, a2 = forward_prop(w1,w2,input)\n",
        "    a2 = np.squeeze(a2)\n",
        "\n",
        "    if a2>=0.5:\n",
        "        print(\"For input\", [i[0] for i in input], \"output is 1\")\n",
        "    else:\n",
        "        print(\"For input\", [i[0] for i in input], \"output is 0\")"
      ],
      "metadata": {
        "id": "wQTLb9zzP-Yw"
      },
      "execution_count": 6,
      "outputs": []
    },
    {
      "cell_type": "code",
      "source": [
        "test = np.array([[0],[0]])\n",
        "predict(w1,w2,test)\n",
        "\n",
        "test = np.array([[0],[1]])\n",
        "predict(w1,w2,test)\n",
        "\n",
        "test = np.array([[1],[0]])\n",
        "predict(w1,w2,test)\n",
        "\n",
        "test = np.array([[1],[1]])\n",
        "predict(w1,w2,test)"
      ],
      "metadata": {
        "colab": {
          "base_uri": "https://localhost:8080/"
        },
        "id": "q0VOE9a0QLWr",
        "outputId": "06f6efeb-1d72-488c-ef75-34b6e5897626"
      },
      "execution_count": 7,
      "outputs": [
        {
          "output_type": "stream",
          "name": "stdout",
          "text": [
            "For input [np.int64(0), np.int64(0)] output is 0\n",
            "For input [np.int64(0), np.int64(1)] output is 1\n",
            "For input [np.int64(1), np.int64(0)] output is 1\n",
            "For input [np.int64(1), np.int64(1)] output is 0\n"
          ]
        }
      ]
    },
    {
      "cell_type": "code",
      "source": [],
      "metadata": {
        "id": "RiY5u-HIQOq8"
      },
      "execution_count": null,
      "outputs": []
    }
  ]
}